{
 "cells": [
  {
   "cell_type": "code",
   "execution_count": 1,
   "id": "2e2103fe-938f-4b2e-a164-17cb4b704946",
   "metadata": {},
   "outputs": [],
   "source": [
    "import numpy as np\n",
    "import pandas as pd\n",
    "import csv"
   ]
  },
  {
   "cell_type": "code",
   "execution_count": 181,
   "id": "6ced335c-a668-4080-83c7-0042fc33d107",
   "metadata": {},
   "outputs": [
    {
     "data": {
      "text/html": [
       "<div>\n",
       "<style scoped>\n",
       "    .dataframe tbody tr th:only-of-type {\n",
       "        vertical-align: middle;\n",
       "    }\n",
       "\n",
       "    .dataframe tbody tr th {\n",
       "        vertical-align: top;\n",
       "    }\n",
       "\n",
       "    .dataframe thead th {\n",
       "        text-align: right;\n",
       "    }\n",
       "</style>\n",
       "<table border=\"1\" class=\"dataframe\">\n",
       "  <thead>\n",
       "    <tr style=\"text-align: right;\">\n",
       "      <th></th>\n",
       "      <th>과세대상근로소득규모별(1)</th>\n",
       "      <th>과세대상근로소득규모별(2)</th>\n",
       "      <th>2021</th>\n",
       "      <th>2021.1</th>\n",
       "      <th>2021.2</th>\n",
       "      <th>2021.3</th>\n",
       "      <th>2021.4</th>\n",
       "      <th>2021.5</th>\n",
       "      <th>2021.6</th>\n",
       "      <th>2021.7</th>\n",
       "      <th>2021.8</th>\n",
       "      <th>2021.9</th>\n",
       "    </tr>\n",
       "  </thead>\n",
       "  <tbody>\n",
       "    <tr>\n",
       "      <th>0</th>\n",
       "      <td>과세대상근로소득규모별(1)</td>\n",
       "      <td>과세대상근로소득규모별(2)</td>\n",
       "      <td>정치자금기부금</td>\n",
       "      <td>정치자금기부금</td>\n",
       "      <td>법정기부금</td>\n",
       "      <td>법정기부금</td>\n",
       "      <td>우리사주조합기부금</td>\n",
       "      <td>우리사주조합기부금</td>\n",
       "      <td>지정기부금(종교단체외)</td>\n",
       "      <td>지정기부금(종교단체외)</td>\n",
       "      <td>지정기부금(종교단체)</td>\n",
       "      <td>지정기부금(종교단체)</td>\n",
       "    </tr>\n",
       "    <tr>\n",
       "      <th>1</th>\n",
       "      <td>과세대상근로소득규모별(1)</td>\n",
       "      <td>과세대상근로소득규모별(2)</td>\n",
       "      <td>인원 (명)</td>\n",
       "      <td>공제세액 (백만원)</td>\n",
       "      <td>인원 (명)</td>\n",
       "      <td>공제세액 (백만원)</td>\n",
       "      <td>인원 (명)</td>\n",
       "      <td>공제세액 (백만원)</td>\n",
       "      <td>인원 (명)</td>\n",
       "      <td>공제세액 (백만원)</td>\n",
       "      <td>인원 (명)</td>\n",
       "      <td>공제세액 (백만원)</td>\n",
       "    </tr>\n",
       "    <tr>\n",
       "      <th>2</th>\n",
       "      <td>합계</td>\n",
       "      <td>소계</td>\n",
       "      <td>306812</td>\n",
       "      <td>20061</td>\n",
       "      <td>1916727</td>\n",
       "      <td>61746</td>\n",
       "      <td>6064</td>\n",
       "      <td>776</td>\n",
       "      <td>4336405</td>\n",
       "      <td>393884</td>\n",
       "      <td>1681109</td>\n",
       "      <td>835718</td>\n",
       "    </tr>\n",
       "    <tr>\n",
       "      <th>3</th>\n",
       "      <td>결정세액이 있는자</td>\n",
       "      <td>소계</td>\n",
       "      <td>297253</td>\n",
       "      <td>19125</td>\n",
       "      <td>1831351</td>\n",
       "      <td>55281</td>\n",
       "      <td>5631</td>\n",
       "      <td>743</td>\n",
       "      <td>4096866</td>\n",
       "      <td>375430</td>\n",
       "      <td>1458494</td>\n",
       "      <td>793432</td>\n",
       "    </tr>\n",
       "    <tr>\n",
       "      <th>4</th>\n",
       "      <td>결정세액이 있는자</td>\n",
       "      <td>1천만 이하</td>\n",
       "      <td>-</td>\n",
       "      <td>-</td>\n",
       "      <td>-</td>\n",
       "      <td>-</td>\n",
       "      <td>-</td>\n",
       "      <td>-</td>\n",
       "      <td>-</td>\n",
       "      <td>-</td>\n",
       "      <td>-</td>\n",
       "      <td>-</td>\n",
       "    </tr>\n",
       "    <tr>\n",
       "      <th>5</th>\n",
       "      <td>결정세액이 있는자</td>\n",
       "      <td>1.5천만 이하</td>\n",
       "      <td>95</td>\n",
       "      <td>0</td>\n",
       "      <td>118</td>\n",
       "      <td>0</td>\n",
       "      <td>-</td>\n",
       "      <td>-</td>\n",
       "      <td>86</td>\n",
       "      <td>4</td>\n",
       "      <td>69</td>\n",
       "      <td>7</td>\n",
       "    </tr>\n",
       "    <tr>\n",
       "      <th>6</th>\n",
       "      <td>결정세액이 있는자</td>\n",
       "      <td>2천만 이하</td>\n",
       "      <td>2809</td>\n",
       "      <td>31</td>\n",
       "      <td>4735</td>\n",
       "      <td>21</td>\n",
       "      <td>14</td>\n",
       "      <td>-</td>\n",
       "      <td>7417</td>\n",
       "      <td>207</td>\n",
       "      <td>3419</td>\n",
       "      <td>377</td>\n",
       "    </tr>\n",
       "    <tr>\n",
       "      <th>7</th>\n",
       "      <td>결정세액이 있는자</td>\n",
       "      <td>3천만 이하</td>\n",
       "      <td>33658</td>\n",
       "      <td>676</td>\n",
       "      <td>87328</td>\n",
       "      <td>562</td>\n",
       "      <td>242</td>\n",
       "      <td>10</td>\n",
       "      <td>211263</td>\n",
       "      <td>8049</td>\n",
       "      <td>53684</td>\n",
       "      <td>7940</td>\n",
       "    </tr>\n",
       "    <tr>\n",
       "      <th>8</th>\n",
       "      <td>결정세액이 있는자</td>\n",
       "      <td>4천만 이하</td>\n",
       "      <td>35482</td>\n",
       "      <td>1290</td>\n",
       "      <td>185970</td>\n",
       "      <td>1585</td>\n",
       "      <td>740</td>\n",
       "      <td>45</td>\n",
       "      <td>437998</td>\n",
       "      <td>22180</td>\n",
       "      <td>125196</td>\n",
       "      <td>33605</td>\n",
       "    </tr>\n",
       "    <tr>\n",
       "      <th>9</th>\n",
       "      <td>결정세액이 있는자</td>\n",
       "      <td>4.5천만 이하</td>\n",
       "      <td>17614</td>\n",
       "      <td>798</td>\n",
       "      <td>110588</td>\n",
       "      <td>1174</td>\n",
       "      <td>635</td>\n",
       "      <td>41</td>\n",
       "      <td>273919</td>\n",
       "      <td>16733</td>\n",
       "      <td>84017</td>\n",
       "      <td>28221</td>\n",
       "    </tr>\n",
       "    <tr>\n",
       "      <th>10</th>\n",
       "      <td>결정세액이 있는자</td>\n",
       "      <td>5천만 이하</td>\n",
       "      <td>17810</td>\n",
       "      <td>889</td>\n",
       "      <td>112893</td>\n",
       "      <td>1414</td>\n",
       "      <td>714</td>\n",
       "      <td>58</td>\n",
       "      <td>287379</td>\n",
       "      <td>19662</td>\n",
       "      <td>91644</td>\n",
       "      <td>34208</td>\n",
       "    </tr>\n",
       "    <tr>\n",
       "      <th>11</th>\n",
       "      <td>결정세액이 있는자</td>\n",
       "      <td>6천만 이하</td>\n",
       "      <td>34351</td>\n",
       "      <td>1851</td>\n",
       "      <td>223650</td>\n",
       "      <td>3217</td>\n",
       "      <td>1334</td>\n",
       "      <td>146</td>\n",
       "      <td>580019</td>\n",
       "      <td>45652</td>\n",
       "      <td>189727</td>\n",
       "      <td>79514</td>\n",
       "    </tr>\n",
       "    <tr>\n",
       "      <th>12</th>\n",
       "      <td>결정세액이 있는자</td>\n",
       "      <td>8천만 이하</td>\n",
       "      <td>52531</td>\n",
       "      <td>3508</td>\n",
       "      <td>439388</td>\n",
       "      <td>7797</td>\n",
       "      <td>1235</td>\n",
       "      <td>123</td>\n",
       "      <td>958388</td>\n",
       "      <td>83407</td>\n",
       "      <td>348044</td>\n",
       "      <td>170865</td>\n",
       "    </tr>\n",
       "    <tr>\n",
       "      <th>13</th>\n",
       "      <td>결정세액이 있는자</td>\n",
       "      <td>1억 이하</td>\n",
       "      <td>41169</td>\n",
       "      <td>3158</td>\n",
       "      <td>310339</td>\n",
       "      <td>8073</td>\n",
       "      <td>538</td>\n",
       "      <td>78</td>\n",
       "      <td>634175</td>\n",
       "      <td>64669</td>\n",
       "      <td>257014</td>\n",
       "      <td>149441</td>\n",
       "    </tr>\n",
       "    <tr>\n",
       "      <th>14</th>\n",
       "      <td>결정세액이 있는자</td>\n",
       "      <td>2억 이하</td>\n",
       "      <td>53851</td>\n",
       "      <td>4976</td>\n",
       "      <td>315347</td>\n",
       "      <td>16289</td>\n",
       "      <td>165</td>\n",
       "      <td>61</td>\n",
       "      <td>631484</td>\n",
       "      <td>85968</td>\n",
       "      <td>266774</td>\n",
       "      <td>209664</td>\n",
       "    </tr>\n",
       "    <tr>\n",
       "      <th>15</th>\n",
       "      <td>결정세액이 있는자</td>\n",
       "      <td>3억 이하</td>\n",
       "      <td>4686</td>\n",
       "      <td>708</td>\n",
       "      <td>26821</td>\n",
       "      <td>4646</td>\n",
       "      <td>6</td>\n",
       "      <td>93</td>\n",
       "      <td>48580</td>\n",
       "      <td>9608</td>\n",
       "      <td>24928</td>\n",
       "      <td>36721</td>\n",
       "    </tr>\n",
       "    <tr>\n",
       "      <th>16</th>\n",
       "      <td>결정세액이 있는자</td>\n",
       "      <td>5억 이하</td>\n",
       "      <td>1933</td>\n",
       "      <td>564</td>\n",
       "      <td>9030</td>\n",
       "      <td>3398</td>\n",
       "      <td>5</td>\n",
       "      <td>2</td>\n",
       "      <td>17562</td>\n",
       "      <td>6162</td>\n",
       "      <td>9396</td>\n",
       "      <td>20762</td>\n",
       "    </tr>\n",
       "    <tr>\n",
       "      <th>17</th>\n",
       "      <td>결정세액이 있는자</td>\n",
       "      <td>10억 이하</td>\n",
       "      <td>865</td>\n",
       "      <td>404</td>\n",
       "      <td>3729</td>\n",
       "      <td>2997</td>\n",
       "      <td>2</td>\n",
       "      <td>85</td>\n",
       "      <td>6417</td>\n",
       "      <td>5201</td>\n",
       "      <td>3491</td>\n",
       "      <td>12863</td>\n",
       "    </tr>\n",
       "    <tr>\n",
       "      <th>18</th>\n",
       "      <td>결정세액이 있는자</td>\n",
       "      <td>10억 초과</td>\n",
       "      <td>399</td>\n",
       "      <td>273</td>\n",
       "      <td>1415</td>\n",
       "      <td>4108</td>\n",
       "      <td>1</td>\n",
       "      <td>-</td>\n",
       "      <td>2179</td>\n",
       "      <td>7928</td>\n",
       "      <td>1091</td>\n",
       "      <td>9244</td>\n",
       "    </tr>\n",
       "    <tr>\n",
       "      <th>19</th>\n",
       "      <td>결정세액이 없는자</td>\n",
       "      <td>소계</td>\n",
       "      <td>9559</td>\n",
       "      <td>936</td>\n",
       "      <td>85376</td>\n",
       "      <td>6465</td>\n",
       "      <td>433</td>\n",
       "      <td>34</td>\n",
       "      <td>239539</td>\n",
       "      <td>18454</td>\n",
       "      <td>222615</td>\n",
       "      <td>42287</td>\n",
       "    </tr>\n",
       "    <tr>\n",
       "      <th>20</th>\n",
       "      <td>결정세액이 없는자</td>\n",
       "      <td>1천만 이하</td>\n",
       "      <td>137</td>\n",
       "      <td>1</td>\n",
       "      <td>478</td>\n",
       "      <td>4</td>\n",
       "      <td>4</td>\n",
       "      <td>-</td>\n",
       "      <td>3338</td>\n",
       "      <td>56</td>\n",
       "      <td>1384</td>\n",
       "      <td>37</td>\n",
       "    </tr>\n",
       "    <tr>\n",
       "      <th>21</th>\n",
       "      <td>결정세액이 없는자</td>\n",
       "      <td>1.5천만 이하</td>\n",
       "      <td>623</td>\n",
       "      <td>9</td>\n",
       "      <td>841</td>\n",
       "      <td>10</td>\n",
       "      <td>4</td>\n",
       "      <td>-</td>\n",
       "      <td>4301</td>\n",
       "      <td>137</td>\n",
       "      <td>3303</td>\n",
       "      <td>194</td>\n",
       "    </tr>\n",
       "    <tr>\n",
       "      <th>22</th>\n",
       "      <td>결정세액이 없는자</td>\n",
       "      <td>2천만 이하</td>\n",
       "      <td>864</td>\n",
       "      <td>28</td>\n",
       "      <td>3264</td>\n",
       "      <td>38</td>\n",
       "      <td>13</td>\n",
       "      <td>1</td>\n",
       "      <td>12448</td>\n",
       "      <td>391</td>\n",
       "      <td>12689</td>\n",
       "      <td>985</td>\n",
       "    </tr>\n",
       "    <tr>\n",
       "      <th>23</th>\n",
       "      <td>결정세액이 없는자</td>\n",
       "      <td>3천만 이하</td>\n",
       "      <td>3261</td>\n",
       "      <td>279</td>\n",
       "      <td>30046</td>\n",
       "      <td>470</td>\n",
       "      <td>158</td>\n",
       "      <td>8</td>\n",
       "      <td>96364</td>\n",
       "      <td>5123</td>\n",
       "      <td>103761</td>\n",
       "      <td>13928</td>\n",
       "    </tr>\n",
       "    <tr>\n",
       "      <th>24</th>\n",
       "      <td>결정세액이 없는자</td>\n",
       "      <td>4천만 이하</td>\n",
       "      <td>2898</td>\n",
       "      <td>324</td>\n",
       "      <td>29168</td>\n",
       "      <td>656</td>\n",
       "      <td>128</td>\n",
       "      <td>10</td>\n",
       "      <td>76336</td>\n",
       "      <td>5748</td>\n",
       "      <td>63515</td>\n",
       "      <td>13817</td>\n",
       "    </tr>\n",
       "    <tr>\n",
       "      <th>25</th>\n",
       "      <td>결정세액이 없는자</td>\n",
       "      <td>4.5천만 이하</td>\n",
       "      <td>680</td>\n",
       "      <td>97</td>\n",
       "      <td>7902</td>\n",
       "      <td>292</td>\n",
       "      <td>55</td>\n",
       "      <td>4</td>\n",
       "      <td>18556</td>\n",
       "      <td>1906</td>\n",
       "      <td>15443</td>\n",
       "      <td>4357</td>\n",
       "    </tr>\n",
       "    <tr>\n",
       "      <th>26</th>\n",
       "      <td>결정세액이 없는자</td>\n",
       "      <td>5천만 이하</td>\n",
       "      <td>444</td>\n",
       "      <td>67</td>\n",
       "      <td>5300</td>\n",
       "      <td>293</td>\n",
       "      <td>32</td>\n",
       "      <td>3</td>\n",
       "      <td>11679</td>\n",
       "      <td>1477</td>\n",
       "      <td>9756</td>\n",
       "      <td>3203</td>\n",
       "    </tr>\n",
       "    <tr>\n",
       "      <th>27</th>\n",
       "      <td>결정세액이 없는자</td>\n",
       "      <td>6천만 이하</td>\n",
       "      <td>421</td>\n",
       "      <td>57</td>\n",
       "      <td>5187</td>\n",
       "      <td>402</td>\n",
       "      <td>32</td>\n",
       "      <td>6</td>\n",
       "      <td>11040</td>\n",
       "      <td>1806</td>\n",
       "      <td>8857</td>\n",
       "      <td>3542</td>\n",
       "    </tr>\n",
       "    <tr>\n",
       "      <th>28</th>\n",
       "      <td>결정세액이 없는자</td>\n",
       "      <td>8천만 이하</td>\n",
       "      <td>180</td>\n",
       "      <td>26</td>\n",
       "      <td>2442</td>\n",
       "      <td>636</td>\n",
       "      <td>7</td>\n",
       "      <td>2</td>\n",
       "      <td>4266</td>\n",
       "      <td>1281</td>\n",
       "      <td>3328</td>\n",
       "      <td>1790</td>\n",
       "    </tr>\n",
       "    <tr>\n",
       "      <th>29</th>\n",
       "      <td>결정세액이 없는자</td>\n",
       "      <td>1억 이하</td>\n",
       "      <td>33</td>\n",
       "      <td>5</td>\n",
       "      <td>348</td>\n",
       "      <td>676</td>\n",
       "      <td>-</td>\n",
       "      <td>-</td>\n",
       "      <td>551</td>\n",
       "      <td>287</td>\n",
       "      <td>324</td>\n",
       "      <td>211</td>\n",
       "    </tr>\n",
       "    <tr>\n",
       "      <th>30</th>\n",
       "      <td>결정세액이 없는자</td>\n",
       "      <td>1억 초과</td>\n",
       "      <td>18</td>\n",
       "      <td>43</td>\n",
       "      <td>400</td>\n",
       "      <td>2988</td>\n",
       "      <td>-</td>\n",
       "      <td>-</td>\n",
       "      <td>660</td>\n",
       "      <td>243</td>\n",
       "      <td>255</td>\n",
       "      <td>224</td>\n",
       "    </tr>\n",
       "  </tbody>\n",
       "</table>\n",
       "</div>"
      ],
      "text/plain": [
       "    과세대상근로소득규모별(1)  과세대상근로소득규모별(2)     2021      2021.1   2021.2      2021.3  \\\n",
       "0   과세대상근로소득규모별(1)  과세대상근로소득규모별(2)  정치자금기부금     정치자금기부금    법정기부금       법정기부금   \n",
       "1   과세대상근로소득규모별(1)  과세대상근로소득규모별(2)   인원 (명)  공제세액 (백만원)   인원 (명)  공제세액 (백만원)   \n",
       "2               합계              소계   306812       20061  1916727       61746   \n",
       "3        결정세액이 있는자              소계   297253       19125  1831351       55281   \n",
       "4        결정세액이 있는자          1천만 이하        -           -        -           -   \n",
       "5        결정세액이 있는자        1.5천만 이하       95           0      118           0   \n",
       "6        결정세액이 있는자          2천만 이하     2809          31     4735          21   \n",
       "7        결정세액이 있는자          3천만 이하    33658         676    87328         562   \n",
       "8        결정세액이 있는자          4천만 이하    35482        1290   185970        1585   \n",
       "9        결정세액이 있는자        4.5천만 이하    17614         798   110588        1174   \n",
       "10       결정세액이 있는자          5천만 이하    17810         889   112893        1414   \n",
       "11       결정세액이 있는자          6천만 이하    34351        1851   223650        3217   \n",
       "12       결정세액이 있는자          8천만 이하    52531        3508   439388        7797   \n",
       "13       결정세액이 있는자           1억 이하    41169        3158   310339        8073   \n",
       "14       결정세액이 있는자           2억 이하    53851        4976   315347       16289   \n",
       "15       결정세액이 있는자           3억 이하     4686         708    26821        4646   \n",
       "16       결정세액이 있는자           5억 이하     1933         564     9030        3398   \n",
       "17       결정세액이 있는자          10억 이하      865         404     3729        2997   \n",
       "18       결정세액이 있는자          10억 초과      399         273     1415        4108   \n",
       "19       결정세액이 없는자              소계     9559         936    85376        6465   \n",
       "20       결정세액이 없는자          1천만 이하      137           1      478           4   \n",
       "21       결정세액이 없는자        1.5천만 이하      623           9      841          10   \n",
       "22       결정세액이 없는자          2천만 이하      864          28     3264          38   \n",
       "23       결정세액이 없는자          3천만 이하     3261         279    30046         470   \n",
       "24       결정세액이 없는자          4천만 이하     2898         324    29168         656   \n",
       "25       결정세액이 없는자        4.5천만 이하      680          97     7902         292   \n",
       "26       결정세액이 없는자          5천만 이하      444          67     5300         293   \n",
       "27       결정세액이 없는자          6천만 이하      421          57     5187         402   \n",
       "28       결정세액이 없는자          8천만 이하      180          26     2442         636   \n",
       "29       결정세액이 없는자           1억 이하       33           5      348         676   \n",
       "30       결정세액이 없는자           1억 초과       18          43      400        2988   \n",
       "\n",
       "       2021.4      2021.5        2021.6        2021.7       2021.8  \\\n",
       "0   우리사주조합기부금   우리사주조합기부금  지정기부금(종교단체외)  지정기부금(종교단체외)  지정기부금(종교단체)   \n",
       "1      인원 (명)  공제세액 (백만원)        인원 (명)    공제세액 (백만원)       인원 (명)   \n",
       "2        6064         776       4336405        393884      1681109   \n",
       "3        5631         743       4096866        375430      1458494   \n",
       "4           -           -             -             -            -   \n",
       "5           -           -            86             4           69   \n",
       "6          14           -          7417           207         3419   \n",
       "7         242          10        211263          8049        53684   \n",
       "8         740          45        437998         22180       125196   \n",
       "9         635          41        273919         16733        84017   \n",
       "10        714          58        287379         19662        91644   \n",
       "11       1334         146        580019         45652       189727   \n",
       "12       1235         123        958388         83407       348044   \n",
       "13        538          78        634175         64669       257014   \n",
       "14        165          61        631484         85968       266774   \n",
       "15          6          93         48580          9608        24928   \n",
       "16          5           2         17562          6162         9396   \n",
       "17          2          85          6417          5201         3491   \n",
       "18          1           -          2179          7928         1091   \n",
       "19        433          34        239539         18454       222615   \n",
       "20          4           -          3338            56         1384   \n",
       "21          4           -          4301           137         3303   \n",
       "22         13           1         12448           391        12689   \n",
       "23        158           8         96364          5123       103761   \n",
       "24        128          10         76336          5748        63515   \n",
       "25         55           4         18556          1906        15443   \n",
       "26         32           3         11679          1477         9756   \n",
       "27         32           6         11040          1806         8857   \n",
       "28          7           2          4266          1281         3328   \n",
       "29          -           -           551           287          324   \n",
       "30          -           -           660           243          255   \n",
       "\n",
       "         2021.9  \n",
       "0   지정기부금(종교단체)  \n",
       "1    공제세액 (백만원)  \n",
       "2        835718  \n",
       "3        793432  \n",
       "4             -  \n",
       "5             7  \n",
       "6           377  \n",
       "7          7940  \n",
       "8         33605  \n",
       "9         28221  \n",
       "10        34208  \n",
       "11        79514  \n",
       "12       170865  \n",
       "13       149441  \n",
       "14       209664  \n",
       "15        36721  \n",
       "16        20762  \n",
       "17        12863  \n",
       "18         9244  \n",
       "19        42287  \n",
       "20           37  \n",
       "21          194  \n",
       "22          985  \n",
       "23        13928  \n",
       "24        13817  \n",
       "25         4357  \n",
       "26         3203  \n",
       "27         3542  \n",
       "28         1790  \n",
       "29          211  \n",
       "30          224  "
      ]
     },
     "execution_count": 181,
     "metadata": {},
     "output_type": "execute_result"
    }
   ],
   "source": [
    "money = pd.read_csv(\"4.2.17_근로소득_연말정산_기부금_세액공제_현황2017_20230320000051.csv\", encoding= \"cp949\")\n",
    "money"
   ]
  },
  {
   "cell_type": "code",
   "execution_count": 182,
   "id": "b9b52ab7-efce-4ae2-8253-e13ae74d7001",
   "metadata": {},
   "outputs": [
    {
     "data": {
      "text/html": [
       "<div>\n",
       "<style scoped>\n",
       "    .dataframe tbody tr th:only-of-type {\n",
       "        vertical-align: middle;\n",
       "    }\n",
       "\n",
       "    .dataframe tbody tr th {\n",
       "        vertical-align: top;\n",
       "    }\n",
       "\n",
       "    .dataframe thead th {\n",
       "        text-align: right;\n",
       "    }\n",
       "</style>\n",
       "<table border=\"1\" class=\"dataframe\">\n",
       "  <thead>\n",
       "    <tr style=\"text-align: right;\">\n",
       "      <th></th>\n",
       "      <th>과세대상근로소득규모별(2)</th>\n",
       "      <th>2021.8</th>\n",
       "      <th>2021.9</th>\n",
       "    </tr>\n",
       "  </thead>\n",
       "  <tbody>\n",
       "    <tr>\n",
       "      <th>4</th>\n",
       "      <td>1천만 이하</td>\n",
       "      <td>-</td>\n",
       "      <td>-</td>\n",
       "    </tr>\n",
       "    <tr>\n",
       "      <th>5</th>\n",
       "      <td>1.5천만 이하</td>\n",
       "      <td>69</td>\n",
       "      <td>7</td>\n",
       "    </tr>\n",
       "    <tr>\n",
       "      <th>6</th>\n",
       "      <td>2천만 이하</td>\n",
       "      <td>3419</td>\n",
       "      <td>377</td>\n",
       "    </tr>\n",
       "    <tr>\n",
       "      <th>7</th>\n",
       "      <td>3천만 이하</td>\n",
       "      <td>53684</td>\n",
       "      <td>7940</td>\n",
       "    </tr>\n",
       "    <tr>\n",
       "      <th>8</th>\n",
       "      <td>4천만 이하</td>\n",
       "      <td>125196</td>\n",
       "      <td>33605</td>\n",
       "    </tr>\n",
       "    <tr>\n",
       "      <th>9</th>\n",
       "      <td>4.5천만 이하</td>\n",
       "      <td>84017</td>\n",
       "      <td>28221</td>\n",
       "    </tr>\n",
       "    <tr>\n",
       "      <th>10</th>\n",
       "      <td>5천만 이하</td>\n",
       "      <td>91644</td>\n",
       "      <td>34208</td>\n",
       "    </tr>\n",
       "    <tr>\n",
       "      <th>11</th>\n",
       "      <td>6천만 이하</td>\n",
       "      <td>189727</td>\n",
       "      <td>79514</td>\n",
       "    </tr>\n",
       "    <tr>\n",
       "      <th>12</th>\n",
       "      <td>8천만 이하</td>\n",
       "      <td>348044</td>\n",
       "      <td>170865</td>\n",
       "    </tr>\n",
       "    <tr>\n",
       "      <th>13</th>\n",
       "      <td>1억 이하</td>\n",
       "      <td>257014</td>\n",
       "      <td>149441</td>\n",
       "    </tr>\n",
       "    <tr>\n",
       "      <th>14</th>\n",
       "      <td>2억 이하</td>\n",
       "      <td>266774</td>\n",
       "      <td>209664</td>\n",
       "    </tr>\n",
       "    <tr>\n",
       "      <th>15</th>\n",
       "      <td>3억 이하</td>\n",
       "      <td>24928</td>\n",
       "      <td>36721</td>\n",
       "    </tr>\n",
       "    <tr>\n",
       "      <th>16</th>\n",
       "      <td>5억 이하</td>\n",
       "      <td>9396</td>\n",
       "      <td>20762</td>\n",
       "    </tr>\n",
       "    <tr>\n",
       "      <th>17</th>\n",
       "      <td>10억 이하</td>\n",
       "      <td>3491</td>\n",
       "      <td>12863</td>\n",
       "    </tr>\n",
       "    <tr>\n",
       "      <th>18</th>\n",
       "      <td>10억 초과</td>\n",
       "      <td>1091</td>\n",
       "      <td>9244</td>\n",
       "    </tr>\n",
       "  </tbody>\n",
       "</table>\n",
       "</div>"
      ],
      "text/plain": [
       "   과세대상근로소득규모별(2)  2021.8  2021.9\n",
       "4          1천만 이하       -       -\n",
       "5        1.5천만 이하      69       7\n",
       "6          2천만 이하    3419     377\n",
       "7          3천만 이하   53684    7940\n",
       "8          4천만 이하  125196   33605\n",
       "9        4.5천만 이하   84017   28221\n",
       "10         5천만 이하   91644   34208\n",
       "11         6천만 이하  189727   79514\n",
       "12         8천만 이하  348044  170865\n",
       "13          1억 이하  257014  149441\n",
       "14          2억 이하  266774  209664\n",
       "15          3억 이하   24928   36721\n",
       "16          5억 이하    9396   20762\n",
       "17         10억 이하    3491   12863\n",
       "18         10억 초과    1091    9244"
      ]
     },
     "execution_count": 182,
     "metadata": {},
     "output_type": "execute_result"
    }
   ],
   "source": [
    "money_religion = money.iloc[4:19,[1,10,11]]\n",
    "money_religion"
   ]
  },
  {
   "cell_type": "code",
   "execution_count": 183,
   "id": "5364ea02-2dcb-4da1-af95-24682d7a91d2",
   "metadata": {},
   "outputs": [],
   "source": [
    "money_religion.columns = ['결정세액_규모', '인원', '지정기부금']"
   ]
  },
  {
   "cell_type": "code",
   "execution_count": 191,
   "id": "136bf30b-cf34-46ee-9391-f719920a5d82",
   "metadata": {},
   "outputs": [],
   "source": [
    "money_religion = money_religion.set_index('결정세액_규모')"
   ]
  },
  {
   "cell_type": "code",
   "execution_count": 192,
   "id": "e615b811-5eda-4bdd-a437-48369682f30e",
   "metadata": {},
   "outputs": [
    {
     "data": {
      "text/html": [
       "<div>\n",
       "<style scoped>\n",
       "    .dataframe tbody tr th:only-of-type {\n",
       "        vertical-align: middle;\n",
       "    }\n",
       "\n",
       "    .dataframe tbody tr th {\n",
       "        vertical-align: top;\n",
       "    }\n",
       "\n",
       "    .dataframe thead th {\n",
       "        text-align: right;\n",
       "    }\n",
       "</style>\n",
       "<table border=\"1\" class=\"dataframe\">\n",
       "  <thead>\n",
       "    <tr style=\"text-align: right;\">\n",
       "      <th></th>\n",
       "      <th>인원</th>\n",
       "      <th>지정기부금</th>\n",
       "    </tr>\n",
       "    <tr>\n",
       "      <th>결정세액_규모</th>\n",
       "      <th></th>\n",
       "      <th></th>\n",
       "    </tr>\n",
       "  </thead>\n",
       "  <tbody>\n",
       "    <tr>\n",
       "      <th>1천만 이하</th>\n",
       "      <td>0</td>\n",
       "      <td>0</td>\n",
       "    </tr>\n",
       "    <tr>\n",
       "      <th>1.5천만 이하</th>\n",
       "      <td>69</td>\n",
       "      <td>7</td>\n",
       "    </tr>\n",
       "    <tr>\n",
       "      <th>2천만 이하</th>\n",
       "      <td>3419</td>\n",
       "      <td>377</td>\n",
       "    </tr>\n",
       "    <tr>\n",
       "      <th>3천만 이하</th>\n",
       "      <td>53684</td>\n",
       "      <td>7940</td>\n",
       "    </tr>\n",
       "    <tr>\n",
       "      <th>4천만 이하</th>\n",
       "      <td>125196</td>\n",
       "      <td>33605</td>\n",
       "    </tr>\n",
       "    <tr>\n",
       "      <th>4.5천만 이하</th>\n",
       "      <td>84017</td>\n",
       "      <td>28221</td>\n",
       "    </tr>\n",
       "    <tr>\n",
       "      <th>5천만 이하</th>\n",
       "      <td>91644</td>\n",
       "      <td>34208</td>\n",
       "    </tr>\n",
       "    <tr>\n",
       "      <th>6천만 이하</th>\n",
       "      <td>189727</td>\n",
       "      <td>79514</td>\n",
       "    </tr>\n",
       "    <tr>\n",
       "      <th>8천만 이하</th>\n",
       "      <td>348044</td>\n",
       "      <td>170865</td>\n",
       "    </tr>\n",
       "    <tr>\n",
       "      <th>1억 이하</th>\n",
       "      <td>257014</td>\n",
       "      <td>149441</td>\n",
       "    </tr>\n",
       "    <tr>\n",
       "      <th>2억 이하</th>\n",
       "      <td>266774</td>\n",
       "      <td>209664</td>\n",
       "    </tr>\n",
       "    <tr>\n",
       "      <th>3억 이하</th>\n",
       "      <td>24928</td>\n",
       "      <td>36721</td>\n",
       "    </tr>\n",
       "    <tr>\n",
       "      <th>5억 이하</th>\n",
       "      <td>9396</td>\n",
       "      <td>20762</td>\n",
       "    </tr>\n",
       "    <tr>\n",
       "      <th>10억 이하</th>\n",
       "      <td>3491</td>\n",
       "      <td>12863</td>\n",
       "    </tr>\n",
       "    <tr>\n",
       "      <th>10억 초과</th>\n",
       "      <td>1091</td>\n",
       "      <td>9244</td>\n",
       "    </tr>\n",
       "  </tbody>\n",
       "</table>\n",
       "</div>"
      ],
      "text/plain": [
       "              인원   지정기부금\n",
       "결정세액_규모                 \n",
       "1천만 이하         0       0\n",
       "1.5천만 이하      69       7\n",
       "2천만 이하      3419     377\n",
       "3천만 이하     53684    7940\n",
       "4천만 이하    125196   33605\n",
       "4.5천만 이하   84017   28221\n",
       "5천만 이하     91644   34208\n",
       "6천만 이하    189727   79514\n",
       "8천만 이하    348044  170865\n",
       "1억 이하     257014  149441\n",
       "2억 이하     266774  209664\n",
       "3억 이하      24928   36721\n",
       "5억 이하       9396   20762\n",
       "10억 이하      3491   12863\n",
       "10억 초과      1091    9244"
      ]
     },
     "execution_count": 192,
     "metadata": {},
     "output_type": "execute_result"
    }
   ],
   "source": [
    "money_religion.apply(pd.to_numeric)"
   ]
  },
  {
   "cell_type": "code",
   "execution_count": 189,
   "id": "6db7a58a-b390-4aa6-9a62-ac89982c1fe2",
   "metadata": {},
   "outputs": [],
   "source": [
    "money_religion.iloc[0,[1,2]] = 0"
   ]
  },
  {
   "cell_type": "code",
   "execution_count": 193,
   "id": "700943fa-05b7-42ce-b5df-83f2d835604c",
   "metadata": {},
   "outputs": [
    {
     "data": {
      "text/plain": [
       "인원       object\n",
       "지정기부금    object\n",
       "dtype: object"
      ]
     },
     "execution_count": 193,
     "metadata": {},
     "output_type": "execute_result"
    }
   ],
   "source": [
    "money_religion.dtypes"
   ]
  },
  {
   "cell_type": "code",
   "execution_count": 197,
   "id": "172255d7-dcf8-422f-9d33-fd97a1b1a494",
   "metadata": {
    "collapsed": true,
    "jupyter": {
     "outputs_hidden": true
    },
    "tags": []
   },
   "outputs": [
    {
     "ename": "ZeroDivisionError",
     "evalue": "division by zero",
     "output_type": "error",
     "traceback": [
      "\u001b[1;31m---------------------------------------------------------------------------\u001b[0m",
      "\u001b[1;31mZeroDivisionError\u001b[0m                         Traceback (most recent call last)",
      "\u001b[1;32m~\\AppData\\Local\\Temp\\ipykernel_17832\\101060136.py\u001b[0m in \u001b[0;36m<module>\u001b[1;34m\u001b[0m\n\u001b[1;32m----> 1\u001b[1;33m \u001b[0meach\u001b[0m \u001b[1;33m=\u001b[0m \u001b[1;33m(\u001b[0m\u001b[1;33m(\u001b[0m\u001b[0mmoney_religion\u001b[0m\u001b[1;33m[\u001b[0m\u001b[1;34m'지정기부금'\u001b[0m\u001b[1;33m]\u001b[0m\u001b[1;33m*\u001b[0m\u001b[1;36m1000000\u001b[0m\u001b[1;33m)\u001b[0m \u001b[1;33m/\u001b[0m \u001b[0mmoney_religion\u001b[0m\u001b[1;33m[\u001b[0m\u001b[1;34m'인원'\u001b[0m\u001b[1;33m]\u001b[0m\u001b[1;33m)\u001b[0m\u001b[1;33m.\u001b[0m\u001b[0mround\u001b[0m\u001b[1;33m(\u001b[0m\u001b[1;36m0\u001b[0m\u001b[1;33m)\u001b[0m\u001b[1;33m\u001b[0m\u001b[1;33m\u001b[0m\u001b[0m\n\u001b[0m",
      "\u001b[1;32m~\\anaconda3\\lib\\site-packages\\pandas\\core\\ops\\common.py\u001b[0m in \u001b[0;36mnew_method\u001b[1;34m(self, other)\u001b[0m\n\u001b[0;32m     68\u001b[0m         \u001b[0mother\u001b[0m \u001b[1;33m=\u001b[0m \u001b[0mitem_from_zerodim\u001b[0m\u001b[1;33m(\u001b[0m\u001b[0mother\u001b[0m\u001b[1;33m)\u001b[0m\u001b[1;33m\u001b[0m\u001b[1;33m\u001b[0m\u001b[0m\n\u001b[0;32m     69\u001b[0m \u001b[1;33m\u001b[0m\u001b[0m\n\u001b[1;32m---> 70\u001b[1;33m         \u001b[1;32mreturn\u001b[0m \u001b[0mmethod\u001b[0m\u001b[1;33m(\u001b[0m\u001b[0mself\u001b[0m\u001b[1;33m,\u001b[0m \u001b[0mother\u001b[0m\u001b[1;33m)\u001b[0m\u001b[1;33m\u001b[0m\u001b[1;33m\u001b[0m\u001b[0m\n\u001b[0m\u001b[0;32m     71\u001b[0m \u001b[1;33m\u001b[0m\u001b[0m\n\u001b[0;32m     72\u001b[0m     \u001b[1;32mreturn\u001b[0m \u001b[0mnew_method\u001b[0m\u001b[1;33m\u001b[0m\u001b[1;33m\u001b[0m\u001b[0m\n",
      "\u001b[1;32m~\\anaconda3\\lib\\site-packages\\pandas\\core\\arraylike.py\u001b[0m in \u001b[0;36m__truediv__\u001b[1;34m(self, other)\u001b[0m\n\u001b[0;32m    122\u001b[0m     \u001b[1;33m@\u001b[0m\u001b[0munpack_zerodim_and_defer\u001b[0m\u001b[1;33m(\u001b[0m\u001b[1;34m\"__truediv__\"\u001b[0m\u001b[1;33m)\u001b[0m\u001b[1;33m\u001b[0m\u001b[1;33m\u001b[0m\u001b[0m\n\u001b[0;32m    123\u001b[0m     \u001b[1;32mdef\u001b[0m \u001b[0m__truediv__\u001b[0m\u001b[1;33m(\u001b[0m\u001b[0mself\u001b[0m\u001b[1;33m,\u001b[0m \u001b[0mother\u001b[0m\u001b[1;33m)\u001b[0m\u001b[1;33m:\u001b[0m\u001b[1;33m\u001b[0m\u001b[1;33m\u001b[0m\u001b[0m\n\u001b[1;32m--> 124\u001b[1;33m         \u001b[1;32mreturn\u001b[0m \u001b[0mself\u001b[0m\u001b[1;33m.\u001b[0m\u001b[0m_arith_method\u001b[0m\u001b[1;33m(\u001b[0m\u001b[0mother\u001b[0m\u001b[1;33m,\u001b[0m \u001b[0moperator\u001b[0m\u001b[1;33m.\u001b[0m\u001b[0mtruediv\u001b[0m\u001b[1;33m)\u001b[0m\u001b[1;33m\u001b[0m\u001b[1;33m\u001b[0m\u001b[0m\n\u001b[0m\u001b[0;32m    125\u001b[0m \u001b[1;33m\u001b[0m\u001b[0m\n\u001b[0;32m    126\u001b[0m     \u001b[1;33m@\u001b[0m\u001b[0munpack_zerodim_and_defer\u001b[0m\u001b[1;33m(\u001b[0m\u001b[1;34m\"__rtruediv__\"\u001b[0m\u001b[1;33m)\u001b[0m\u001b[1;33m\u001b[0m\u001b[1;33m\u001b[0m\u001b[0m\n",
      "\u001b[1;32m~\\anaconda3\\lib\\site-packages\\pandas\\core\\series.py\u001b[0m in \u001b[0;36m_arith_method\u001b[1;34m(self, other, op)\u001b[0m\n\u001b[0;32m   5637\u001b[0m     \u001b[1;32mdef\u001b[0m \u001b[0m_arith_method\u001b[0m\u001b[1;33m(\u001b[0m\u001b[0mself\u001b[0m\u001b[1;33m,\u001b[0m \u001b[0mother\u001b[0m\u001b[1;33m,\u001b[0m \u001b[0mop\u001b[0m\u001b[1;33m)\u001b[0m\u001b[1;33m:\u001b[0m\u001b[1;33m\u001b[0m\u001b[1;33m\u001b[0m\u001b[0m\n\u001b[0;32m   5638\u001b[0m         \u001b[0mself\u001b[0m\u001b[1;33m,\u001b[0m \u001b[0mother\u001b[0m \u001b[1;33m=\u001b[0m \u001b[0mops\u001b[0m\u001b[1;33m.\u001b[0m\u001b[0malign_method_SERIES\u001b[0m\u001b[1;33m(\u001b[0m\u001b[0mself\u001b[0m\u001b[1;33m,\u001b[0m \u001b[0mother\u001b[0m\u001b[1;33m)\u001b[0m\u001b[1;33m\u001b[0m\u001b[1;33m\u001b[0m\u001b[0m\n\u001b[1;32m-> 5639\u001b[1;33m         \u001b[1;32mreturn\u001b[0m \u001b[0mbase\u001b[0m\u001b[1;33m.\u001b[0m\u001b[0mIndexOpsMixin\u001b[0m\u001b[1;33m.\u001b[0m\u001b[0m_arith_method\u001b[0m\u001b[1;33m(\u001b[0m\u001b[0mself\u001b[0m\u001b[1;33m,\u001b[0m \u001b[0mother\u001b[0m\u001b[1;33m,\u001b[0m \u001b[0mop\u001b[0m\u001b[1;33m)\u001b[0m\u001b[1;33m\u001b[0m\u001b[1;33m\u001b[0m\u001b[0m\n\u001b[0m\u001b[0;32m   5640\u001b[0m \u001b[1;33m\u001b[0m\u001b[0m\n\u001b[0;32m   5641\u001b[0m \u001b[1;33m\u001b[0m\u001b[0m\n",
      "\u001b[1;32m~\\anaconda3\\lib\\site-packages\\pandas\\core\\base.py\u001b[0m in \u001b[0;36m_arith_method\u001b[1;34m(self, other, op)\u001b[0m\n\u001b[0;32m   1293\u001b[0m \u001b[1;33m\u001b[0m\u001b[0m\n\u001b[0;32m   1294\u001b[0m         \u001b[1;32mwith\u001b[0m \u001b[0mnp\u001b[0m\u001b[1;33m.\u001b[0m\u001b[0merrstate\u001b[0m\u001b[1;33m(\u001b[0m\u001b[0mall\u001b[0m\u001b[1;33m=\u001b[0m\u001b[1;34m\"ignore\"\u001b[0m\u001b[1;33m)\u001b[0m\u001b[1;33m:\u001b[0m\u001b[1;33m\u001b[0m\u001b[1;33m\u001b[0m\u001b[0m\n\u001b[1;32m-> 1295\u001b[1;33m             \u001b[0mresult\u001b[0m \u001b[1;33m=\u001b[0m \u001b[0mops\u001b[0m\u001b[1;33m.\u001b[0m\u001b[0marithmetic_op\u001b[0m\u001b[1;33m(\u001b[0m\u001b[0mlvalues\u001b[0m\u001b[1;33m,\u001b[0m \u001b[0mrvalues\u001b[0m\u001b[1;33m,\u001b[0m \u001b[0mop\u001b[0m\u001b[1;33m)\u001b[0m\u001b[1;33m\u001b[0m\u001b[1;33m\u001b[0m\u001b[0m\n\u001b[0m\u001b[0;32m   1296\u001b[0m \u001b[1;33m\u001b[0m\u001b[0m\n\u001b[0;32m   1297\u001b[0m         \u001b[1;32mreturn\u001b[0m \u001b[0mself\u001b[0m\u001b[1;33m.\u001b[0m\u001b[0m_construct_result\u001b[0m\u001b[1;33m(\u001b[0m\u001b[0mresult\u001b[0m\u001b[1;33m,\u001b[0m \u001b[0mname\u001b[0m\u001b[1;33m=\u001b[0m\u001b[0mres_name\u001b[0m\u001b[1;33m)\u001b[0m\u001b[1;33m\u001b[0m\u001b[1;33m\u001b[0m\u001b[0m\n",
      "\u001b[1;32m~\\anaconda3\\lib\\site-packages\\pandas\\core\\ops\\array_ops.py\u001b[0m in \u001b[0;36marithmetic_op\u001b[1;34m(left, right, op)\u001b[0m\n\u001b[0;32m    220\u001b[0m         \u001b[0m_bool_arith_check\u001b[0m\u001b[1;33m(\u001b[0m\u001b[0mop\u001b[0m\u001b[1;33m,\u001b[0m \u001b[0mleft\u001b[0m\u001b[1;33m,\u001b[0m \u001b[0mright\u001b[0m\u001b[1;33m)\u001b[0m\u001b[1;33m\u001b[0m\u001b[1;33m\u001b[0m\u001b[0m\n\u001b[0;32m    221\u001b[0m \u001b[1;33m\u001b[0m\u001b[0m\n\u001b[1;32m--> 222\u001b[1;33m         \u001b[0mres_values\u001b[0m \u001b[1;33m=\u001b[0m \u001b[0m_na_arithmetic_op\u001b[0m\u001b[1;33m(\u001b[0m\u001b[0mleft\u001b[0m\u001b[1;33m,\u001b[0m \u001b[0mright\u001b[0m\u001b[1;33m,\u001b[0m \u001b[0mop\u001b[0m\u001b[1;33m)\u001b[0m\u001b[1;33m\u001b[0m\u001b[1;33m\u001b[0m\u001b[0m\n\u001b[0m\u001b[0;32m    223\u001b[0m \u001b[1;33m\u001b[0m\u001b[0m\n\u001b[0;32m    224\u001b[0m     \u001b[1;32mreturn\u001b[0m \u001b[0mres_values\u001b[0m\u001b[1;33m\u001b[0m\u001b[1;33m\u001b[0m\u001b[0m\n",
      "\u001b[1;32m~\\anaconda3\\lib\\site-packages\\pandas\\core\\ops\\array_ops.py\u001b[0m in \u001b[0;36m_na_arithmetic_op\u001b[1;34m(left, right, op, is_cmp)\u001b[0m\n\u001b[0;32m    161\u001b[0m \u001b[1;33m\u001b[0m\u001b[0m\n\u001b[0;32m    162\u001b[0m     \u001b[1;32mtry\u001b[0m\u001b[1;33m:\u001b[0m\u001b[1;33m\u001b[0m\u001b[1;33m\u001b[0m\u001b[0m\n\u001b[1;32m--> 163\u001b[1;33m         \u001b[0mresult\u001b[0m \u001b[1;33m=\u001b[0m \u001b[0mfunc\u001b[0m\u001b[1;33m(\u001b[0m\u001b[0mleft\u001b[0m\u001b[1;33m,\u001b[0m \u001b[0mright\u001b[0m\u001b[1;33m)\u001b[0m\u001b[1;33m\u001b[0m\u001b[1;33m\u001b[0m\u001b[0m\n\u001b[0m\u001b[0;32m    164\u001b[0m     \u001b[1;32mexcept\u001b[0m \u001b[0mTypeError\u001b[0m\u001b[1;33m:\u001b[0m\u001b[1;33m\u001b[0m\u001b[1;33m\u001b[0m\u001b[0m\n\u001b[0;32m    165\u001b[0m         \u001b[1;32mif\u001b[0m \u001b[1;32mnot\u001b[0m \u001b[0mis_cmp\u001b[0m \u001b[1;32mand\u001b[0m \u001b[1;33m(\u001b[0m\u001b[0mis_object_dtype\u001b[0m\u001b[1;33m(\u001b[0m\u001b[0mleft\u001b[0m\u001b[1;33m.\u001b[0m\u001b[0mdtype\u001b[0m\u001b[1;33m)\u001b[0m \u001b[1;32mor\u001b[0m \u001b[0mis_object_dtype\u001b[0m\u001b[1;33m(\u001b[0m\u001b[0mright\u001b[0m\u001b[1;33m)\u001b[0m\u001b[1;33m)\u001b[0m\u001b[1;33m:\u001b[0m\u001b[1;33m\u001b[0m\u001b[1;33m\u001b[0m\u001b[0m\n",
      "\u001b[1;32m~\\anaconda3\\lib\\site-packages\\pandas\\core\\computation\\expressions.py\u001b[0m in \u001b[0;36mevaluate\u001b[1;34m(op, a, b, use_numexpr)\u001b[0m\n\u001b[0;32m    237\u001b[0m         \u001b[1;32mif\u001b[0m \u001b[0muse_numexpr\u001b[0m\u001b[1;33m:\u001b[0m\u001b[1;33m\u001b[0m\u001b[1;33m\u001b[0m\u001b[0m\n\u001b[0;32m    238\u001b[0m             \u001b[1;31m# error: \"None\" not callable\u001b[0m\u001b[1;33m\u001b[0m\u001b[1;33m\u001b[0m\u001b[0m\n\u001b[1;32m--> 239\u001b[1;33m             \u001b[1;32mreturn\u001b[0m \u001b[0m_evaluate\u001b[0m\u001b[1;33m(\u001b[0m\u001b[0mop\u001b[0m\u001b[1;33m,\u001b[0m \u001b[0mop_str\u001b[0m\u001b[1;33m,\u001b[0m \u001b[0ma\u001b[0m\u001b[1;33m,\u001b[0m \u001b[0mb\u001b[0m\u001b[1;33m)\u001b[0m  \u001b[1;31m# type: ignore[misc]\u001b[0m\u001b[1;33m\u001b[0m\u001b[1;33m\u001b[0m\u001b[0m\n\u001b[0m\u001b[0;32m    240\u001b[0m     \u001b[1;32mreturn\u001b[0m \u001b[0m_evaluate_standard\u001b[0m\u001b[1;33m(\u001b[0m\u001b[0mop\u001b[0m\u001b[1;33m,\u001b[0m \u001b[0mop_str\u001b[0m\u001b[1;33m,\u001b[0m \u001b[0ma\u001b[0m\u001b[1;33m,\u001b[0m \u001b[0mb\u001b[0m\u001b[1;33m)\u001b[0m\u001b[1;33m\u001b[0m\u001b[1;33m\u001b[0m\u001b[0m\n\u001b[0;32m    241\u001b[0m \u001b[1;33m\u001b[0m\u001b[0m\n",
      "\u001b[1;32m~\\anaconda3\\lib\\site-packages\\pandas\\core\\computation\\expressions.py\u001b[0m in \u001b[0;36m_evaluate_numexpr\u001b[1;34m(op, op_str, a, b)\u001b[0m\n\u001b[0;32m    126\u001b[0m \u001b[1;33m\u001b[0m\u001b[0m\n\u001b[0;32m    127\u001b[0m     \u001b[1;32mif\u001b[0m \u001b[0mresult\u001b[0m \u001b[1;32mis\u001b[0m \u001b[1;32mNone\u001b[0m\u001b[1;33m:\u001b[0m\u001b[1;33m\u001b[0m\u001b[1;33m\u001b[0m\u001b[0m\n\u001b[1;32m--> 128\u001b[1;33m         \u001b[0mresult\u001b[0m \u001b[1;33m=\u001b[0m \u001b[0m_evaluate_standard\u001b[0m\u001b[1;33m(\u001b[0m\u001b[0mop\u001b[0m\u001b[1;33m,\u001b[0m \u001b[0mop_str\u001b[0m\u001b[1;33m,\u001b[0m \u001b[0ma\u001b[0m\u001b[1;33m,\u001b[0m \u001b[0mb\u001b[0m\u001b[1;33m)\u001b[0m\u001b[1;33m\u001b[0m\u001b[1;33m\u001b[0m\u001b[0m\n\u001b[0m\u001b[0;32m    129\u001b[0m \u001b[1;33m\u001b[0m\u001b[0m\n\u001b[0;32m    130\u001b[0m     \u001b[1;32mreturn\u001b[0m \u001b[0mresult\u001b[0m\u001b[1;33m\u001b[0m\u001b[1;33m\u001b[0m\u001b[0m\n",
      "\u001b[1;32m~\\anaconda3\\lib\\site-packages\\pandas\\core\\computation\\expressions.py\u001b[0m in \u001b[0;36m_evaluate_standard\u001b[1;34m(op, op_str, a, b)\u001b[0m\n\u001b[0;32m     67\u001b[0m     \u001b[1;32mif\u001b[0m \u001b[0m_TEST_MODE\u001b[0m\u001b[1;33m:\u001b[0m\u001b[1;33m\u001b[0m\u001b[1;33m\u001b[0m\u001b[0m\n\u001b[0;32m     68\u001b[0m         \u001b[0m_store_test_result\u001b[0m\u001b[1;33m(\u001b[0m\u001b[1;32mFalse\u001b[0m\u001b[1;33m)\u001b[0m\u001b[1;33m\u001b[0m\u001b[1;33m\u001b[0m\u001b[0m\n\u001b[1;32m---> 69\u001b[1;33m     \u001b[1;32mreturn\u001b[0m \u001b[0mop\u001b[0m\u001b[1;33m(\u001b[0m\u001b[0ma\u001b[0m\u001b[1;33m,\u001b[0m \u001b[0mb\u001b[0m\u001b[1;33m)\u001b[0m\u001b[1;33m\u001b[0m\u001b[1;33m\u001b[0m\u001b[0m\n\u001b[0m\u001b[0;32m     70\u001b[0m \u001b[1;33m\u001b[0m\u001b[0m\n\u001b[0;32m     71\u001b[0m \u001b[1;33m\u001b[0m\u001b[0m\n",
      "\u001b[1;31mZeroDivisionError\u001b[0m: division by zero"
     ]
    }
   ],
   "source": [
    "each = ((money_religion['지정기부금']*1000000) / money_religion['인원']).round(0)"
   ]
  },
  {
   "cell_type": "code",
   "execution_count": 196,
   "id": "a70ce8af-4633-4cd1-9521-6eb8052263d1",
   "metadata": {},
   "outputs": [
    {
     "data": {
      "text/html": [
       "<div>\n",
       "<style scoped>\n",
       "    .dataframe tbody tr th:only-of-type {\n",
       "        vertical-align: middle;\n",
       "    }\n",
       "\n",
       "    .dataframe tbody tr th {\n",
       "        vertical-align: top;\n",
       "    }\n",
       "\n",
       "    .dataframe thead th {\n",
       "        text-align: right;\n",
       "    }\n",
       "</style>\n",
       "<table border=\"1\" class=\"dataframe\">\n",
       "  <thead>\n",
       "    <tr style=\"text-align: right;\">\n",
       "      <th></th>\n",
       "      <th>인원</th>\n",
       "      <th>지정기부금</th>\n",
       "    </tr>\n",
       "    <tr>\n",
       "      <th>결정세액_규모</th>\n",
       "      <th></th>\n",
       "      <th></th>\n",
       "    </tr>\n",
       "  </thead>\n",
       "  <tbody>\n",
       "    <tr>\n",
       "      <th>1천만 이하</th>\n",
       "      <td>0</td>\n",
       "      <td>0</td>\n",
       "    </tr>\n",
       "    <tr>\n",
       "      <th>1.5천만 이하</th>\n",
       "      <td>69</td>\n",
       "      <td>7</td>\n",
       "    </tr>\n",
       "    <tr>\n",
       "      <th>2천만 이하</th>\n",
       "      <td>3419</td>\n",
       "      <td>377</td>\n",
       "    </tr>\n",
       "    <tr>\n",
       "      <th>3천만 이하</th>\n",
       "      <td>53684</td>\n",
       "      <td>7940</td>\n",
       "    </tr>\n",
       "    <tr>\n",
       "      <th>4천만 이하</th>\n",
       "      <td>125196</td>\n",
       "      <td>33605</td>\n",
       "    </tr>\n",
       "    <tr>\n",
       "      <th>4.5천만 이하</th>\n",
       "      <td>84017</td>\n",
       "      <td>28221</td>\n",
       "    </tr>\n",
       "    <tr>\n",
       "      <th>5천만 이하</th>\n",
       "      <td>91644</td>\n",
       "      <td>34208</td>\n",
       "    </tr>\n",
       "    <tr>\n",
       "      <th>6천만 이하</th>\n",
       "      <td>189727</td>\n",
       "      <td>79514</td>\n",
       "    </tr>\n",
       "    <tr>\n",
       "      <th>8천만 이하</th>\n",
       "      <td>348044</td>\n",
       "      <td>170865</td>\n",
       "    </tr>\n",
       "    <tr>\n",
       "      <th>1억 이하</th>\n",
       "      <td>257014</td>\n",
       "      <td>149441</td>\n",
       "    </tr>\n",
       "    <tr>\n",
       "      <th>2억 이하</th>\n",
       "      <td>266774</td>\n",
       "      <td>209664</td>\n",
       "    </tr>\n",
       "    <tr>\n",
       "      <th>3억 이하</th>\n",
       "      <td>24928</td>\n",
       "      <td>36721</td>\n",
       "    </tr>\n",
       "    <tr>\n",
       "      <th>5억 이하</th>\n",
       "      <td>9396</td>\n",
       "      <td>20762</td>\n",
       "    </tr>\n",
       "    <tr>\n",
       "      <th>10억 이하</th>\n",
       "      <td>3491</td>\n",
       "      <td>12863</td>\n",
       "    </tr>\n",
       "    <tr>\n",
       "      <th>10억 초과</th>\n",
       "      <td>1091</td>\n",
       "      <td>9244</td>\n",
       "    </tr>\n",
       "  </tbody>\n",
       "</table>\n",
       "</div>"
      ],
      "text/plain": [
       "              인원   지정기부금\n",
       "결정세액_규모                 \n",
       "1천만 이하         0       0\n",
       "1.5천만 이하      69       7\n",
       "2천만 이하      3419     377\n",
       "3천만 이하     53684    7940\n",
       "4천만 이하    125196   33605\n",
       "4.5천만 이하   84017   28221\n",
       "5천만 이하     91644   34208\n",
       "6천만 이하    189727   79514\n",
       "8천만 이하    348044  170865\n",
       "1억 이하     257014  149441\n",
       "2억 이하     266774  209664\n",
       "3억 이하      24928   36721\n",
       "5억 이하       9396   20762\n",
       "10억 이하      3491   12863\n",
       "10억 초과      1091    9244"
      ]
     },
     "execution_count": 196,
     "metadata": {},
     "output_type": "execute_result"
    }
   ],
   "source": [
    "money_religion"
   ]
  },
  {
   "cell_type": "code",
   "execution_count": 198,
   "id": "6f36a35c-3d56-46eb-9e13-1f859cd63c73",
   "metadata": {},
   "outputs": [],
   "source": [
    "money_religion0 = pd.concat([money_religion, each], axis = 1)\n",
    "money_religion0.columns = [ '인원', '지정기부금', '1인당_기부금']"
   ]
  },
  {
   "cell_type": "code",
   "execution_count": 208,
   "id": "23c03f7e-831e-4408-8c90-be3082514437",
   "metadata": {},
   "outputs": [],
   "source": [
    "money = money_religion0.reset_index()"
   ]
  },
  {
   "cell_type": "code",
   "execution_count": 209,
   "id": "a2f33c8e-c014-4713-8830-d96279897c8d",
   "metadata": {},
   "outputs": [
    {
     "data": {
      "text/html": [
       "<div>\n",
       "<style scoped>\n",
       "    .dataframe tbody tr th:only-of-type {\n",
       "        vertical-align: middle;\n",
       "    }\n",
       "\n",
       "    .dataframe tbody tr th {\n",
       "        vertical-align: top;\n",
       "    }\n",
       "\n",
       "    .dataframe thead th {\n",
       "        text-align: right;\n",
       "    }\n",
       "</style>\n",
       "<table border=\"1\" class=\"dataframe\">\n",
       "  <thead>\n",
       "    <tr style=\"text-align: right;\">\n",
       "      <th></th>\n",
       "      <th>index</th>\n",
       "      <th>인원</th>\n",
       "      <th>지정기부금</th>\n",
       "      <th>1인당_기부금</th>\n",
       "    </tr>\n",
       "  </thead>\n",
       "  <tbody>\n",
       "    <tr>\n",
       "      <th>0</th>\n",
       "      <td>1천만 이하</td>\n",
       "      <td>0</td>\n",
       "      <td>0</td>\n",
       "      <td>NaN</td>\n",
       "    </tr>\n",
       "    <tr>\n",
       "      <th>1</th>\n",
       "      <td>1.5천만 이하</td>\n",
       "      <td>69</td>\n",
       "      <td>7</td>\n",
       "      <td>101449.0</td>\n",
       "    </tr>\n",
       "    <tr>\n",
       "      <th>2</th>\n",
       "      <td>2천만 이하</td>\n",
       "      <td>3419</td>\n",
       "      <td>377</td>\n",
       "      <td>110266.0</td>\n",
       "    </tr>\n",
       "    <tr>\n",
       "      <th>3</th>\n",
       "      <td>3천만 이하</td>\n",
       "      <td>53684</td>\n",
       "      <td>7940</td>\n",
       "      <td>147903.0</td>\n",
       "    </tr>\n",
       "    <tr>\n",
       "      <th>4</th>\n",
       "      <td>4천만 이하</td>\n",
       "      <td>125196</td>\n",
       "      <td>33605</td>\n",
       "      <td>268419.0</td>\n",
       "    </tr>\n",
       "    <tr>\n",
       "      <th>5</th>\n",
       "      <td>4.5천만 이하</td>\n",
       "      <td>84017</td>\n",
       "      <td>28221</td>\n",
       "      <td>335896.0</td>\n",
       "    </tr>\n",
       "    <tr>\n",
       "      <th>6</th>\n",
       "      <td>5천만 이하</td>\n",
       "      <td>91644</td>\n",
       "      <td>34208</td>\n",
       "      <td>373270.0</td>\n",
       "    </tr>\n",
       "    <tr>\n",
       "      <th>7</th>\n",
       "      <td>6천만 이하</td>\n",
       "      <td>189727</td>\n",
       "      <td>79514</td>\n",
       "      <td>419097.0</td>\n",
       "    </tr>\n",
       "    <tr>\n",
       "      <th>8</th>\n",
       "      <td>8천만 이하</td>\n",
       "      <td>348044</td>\n",
       "      <td>170865</td>\n",
       "      <td>490929.0</td>\n",
       "    </tr>\n",
       "    <tr>\n",
       "      <th>9</th>\n",
       "      <td>1억 이하</td>\n",
       "      <td>257014</td>\n",
       "      <td>149441</td>\n",
       "      <td>581451.0</td>\n",
       "    </tr>\n",
       "    <tr>\n",
       "      <th>10</th>\n",
       "      <td>2억 이하</td>\n",
       "      <td>266774</td>\n",
       "      <td>209664</td>\n",
       "      <td>785924.0</td>\n",
       "    </tr>\n",
       "    <tr>\n",
       "      <th>11</th>\n",
       "      <td>3억 이하</td>\n",
       "      <td>24928</td>\n",
       "      <td>36721</td>\n",
       "      <td>1473082.0</td>\n",
       "    </tr>\n",
       "    <tr>\n",
       "      <th>12</th>\n",
       "      <td>5억 이하</td>\n",
       "      <td>9396</td>\n",
       "      <td>20762</td>\n",
       "      <td>2209664.0</td>\n",
       "    </tr>\n",
       "    <tr>\n",
       "      <th>13</th>\n",
       "      <td>10억 이하</td>\n",
       "      <td>3491</td>\n",
       "      <td>12863</td>\n",
       "      <td>3684618.0</td>\n",
       "    </tr>\n",
       "    <tr>\n",
       "      <th>14</th>\n",
       "      <td>10억 초과</td>\n",
       "      <td>1091</td>\n",
       "      <td>9244</td>\n",
       "      <td>8472961.0</td>\n",
       "    </tr>\n",
       "  </tbody>\n",
       "</table>\n",
       "</div>"
      ],
      "text/plain": [
       "       index      인원   지정기부금    1인당_기부금\n",
       "0     1천만 이하       0       0        NaN\n",
       "1   1.5천만 이하      69       7   101449.0\n",
       "2     2천만 이하    3419     377   110266.0\n",
       "3     3천만 이하   53684    7940   147903.0\n",
       "4     4천만 이하  125196   33605   268419.0\n",
       "5   4.5천만 이하   84017   28221   335896.0\n",
       "6     5천만 이하   91644   34208   373270.0\n",
       "7     6천만 이하  189727   79514   419097.0\n",
       "8     8천만 이하  348044  170865   490929.0\n",
       "9      1억 이하  257014  149441   581451.0\n",
       "10     2억 이하  266774  209664   785924.0\n",
       "11     3억 이하   24928   36721  1473082.0\n",
       "12     5억 이하    9396   20762  2209664.0\n",
       "13    10억 이하    3491   12863  3684618.0\n",
       "14    10억 초과    1091    9244  8472961.0"
      ]
     },
     "execution_count": 209,
     "metadata": {},
     "output_type": "execute_result"
    }
   ],
   "source": [
    "money"
   ]
  },
  {
   "cell_type": "markdown",
   "id": "7467d8e2-b2e6-47ed-9ece-f0e833bbb05f",
   "metadata": {},
   "source": [
    "세금으로 인해 추산된 금액만 835718000000원 (8천억원) 규모이며, 한 사람당 위와 같은 경제적 가치를 가지고 있다.   \n",
    "즉, 교회에게 한 사람 한 사람은 경제적 가치를 창출할 수 있는 수단이자 주 수입원이다. "
   ]
  },
  {
   "cell_type": "code",
   "execution_count": 200,
   "id": "8f550349-1a93-4464-a840-fb1dec78b3e5",
   "metadata": {},
   "outputs": [],
   "source": [
    "import plotly.express as px\n",
    "import plotly.offline as pyo\n",
    "import plotly.graph_objs as go"
   ]
  },
  {
   "cell_type": "code",
   "execution_count": 213,
   "id": "1d807912-4683-45fa-84cd-cd0e1455e549",
   "metadata": {},
   "outputs": [
    {
     "data": {
      "application/vnd.plotly.v1+json": {
       "config": {
        "plotlyServerURL": "https://plot.ly"
       },
       "data": [
        {
         "alignmentgroup": "True",
         "hovertemplate": "x=%{x}<br>y=%{y}<extra></extra>",
         "legendgroup": "",
         "marker": {
          "color": "#636efa",
          "pattern": {
           "shape": ""
          }
         },
         "name": "",
         "offsetgroup": "",
         "orientation": "v",
         "showlegend": false,
         "textposition": "auto",
         "type": "bar",
         "x": [
          "1천만 이하",
          "1.5천만 이하",
          "2천만 이하",
          "3천만 이하",
          "4천만 이하",
          "4.5천만 이하",
          "5천만 이하",
          "6천만 이하",
          "8천만 이하",
          "1억 이하"
         ],
         "xaxis": "x",
         "y": [
          null,
          101449,
          110266,
          147903,
          268419,
          335896,
          373270,
          419097,
          490929,
          581451
         ],
         "yaxis": "y"
        }
       ],
       "layout": {
        "autosize": true,
        "barmode": "relative",
        "legend": {
         "tracegroupgap": 0
        },
        "margin": {
         "t": 60
        },
        "template": {
         "data": {
          "bar": [
           {
            "error_x": {
             "color": "#2a3f5f"
            },
            "error_y": {
             "color": "#2a3f5f"
            },
            "marker": {
             "line": {
              "color": "#E5ECF6",
              "width": 0.5
             },
             "pattern": {
              "fillmode": "overlay",
              "size": 10,
              "solidity": 0.2
             }
            },
            "type": "bar"
           }
          ],
          "barpolar": [
           {
            "marker": {
             "line": {
              "color": "#E5ECF6",
              "width": 0.5
             },
             "pattern": {
              "fillmode": "overlay",
              "size": 10,
              "solidity": 0.2
             }
            },
            "type": "barpolar"
           }
          ],
          "carpet": [
           {
            "aaxis": {
             "endlinecolor": "#2a3f5f",
             "gridcolor": "white",
             "linecolor": "white",
             "minorgridcolor": "white",
             "startlinecolor": "#2a3f5f"
            },
            "baxis": {
             "endlinecolor": "#2a3f5f",
             "gridcolor": "white",
             "linecolor": "white",
             "minorgridcolor": "white",
             "startlinecolor": "#2a3f5f"
            },
            "type": "carpet"
           }
          ],
          "choropleth": [
           {
            "colorbar": {
             "outlinewidth": 0,
             "ticks": ""
            },
            "type": "choropleth"
           }
          ],
          "contour": [
           {
            "colorbar": {
             "outlinewidth": 0,
             "ticks": ""
            },
            "colorscale": [
             [
              0,
              "#0d0887"
             ],
             [
              0.1111111111111111,
              "#46039f"
             ],
             [
              0.2222222222222222,
              "#7201a8"
             ],
             [
              0.3333333333333333,
              "#9c179e"
             ],
             [
              0.4444444444444444,
              "#bd3786"
             ],
             [
              0.5555555555555556,
              "#d8576b"
             ],
             [
              0.6666666666666666,
              "#ed7953"
             ],
             [
              0.7777777777777778,
              "#fb9f3a"
             ],
             [
              0.8888888888888888,
              "#fdca26"
             ],
             [
              1,
              "#f0f921"
             ]
            ],
            "type": "contour"
           }
          ],
          "contourcarpet": [
           {
            "colorbar": {
             "outlinewidth": 0,
             "ticks": ""
            },
            "type": "contourcarpet"
           }
          ],
          "heatmap": [
           {
            "colorbar": {
             "outlinewidth": 0,
             "ticks": ""
            },
            "colorscale": [
             [
              0,
              "#0d0887"
             ],
             [
              0.1111111111111111,
              "#46039f"
             ],
             [
              0.2222222222222222,
              "#7201a8"
             ],
             [
              0.3333333333333333,
              "#9c179e"
             ],
             [
              0.4444444444444444,
              "#bd3786"
             ],
             [
              0.5555555555555556,
              "#d8576b"
             ],
             [
              0.6666666666666666,
              "#ed7953"
             ],
             [
              0.7777777777777778,
              "#fb9f3a"
             ],
             [
              0.8888888888888888,
              "#fdca26"
             ],
             [
              1,
              "#f0f921"
             ]
            ],
            "type": "heatmap"
           }
          ],
          "heatmapgl": [
           {
            "colorbar": {
             "outlinewidth": 0,
             "ticks": ""
            },
            "colorscale": [
             [
              0,
              "#0d0887"
             ],
             [
              0.1111111111111111,
              "#46039f"
             ],
             [
              0.2222222222222222,
              "#7201a8"
             ],
             [
              0.3333333333333333,
              "#9c179e"
             ],
             [
              0.4444444444444444,
              "#bd3786"
             ],
             [
              0.5555555555555556,
              "#d8576b"
             ],
             [
              0.6666666666666666,
              "#ed7953"
             ],
             [
              0.7777777777777778,
              "#fb9f3a"
             ],
             [
              0.8888888888888888,
              "#fdca26"
             ],
             [
              1,
              "#f0f921"
             ]
            ],
            "type": "heatmapgl"
           }
          ],
          "histogram": [
           {
            "marker": {
             "pattern": {
              "fillmode": "overlay",
              "size": 10,
              "solidity": 0.2
             }
            },
            "type": "histogram"
           }
          ],
          "histogram2d": [
           {
            "colorbar": {
             "outlinewidth": 0,
             "ticks": ""
            },
            "colorscale": [
             [
              0,
              "#0d0887"
             ],
             [
              0.1111111111111111,
              "#46039f"
             ],
             [
              0.2222222222222222,
              "#7201a8"
             ],
             [
              0.3333333333333333,
              "#9c179e"
             ],
             [
              0.4444444444444444,
              "#bd3786"
             ],
             [
              0.5555555555555556,
              "#d8576b"
             ],
             [
              0.6666666666666666,
              "#ed7953"
             ],
             [
              0.7777777777777778,
              "#fb9f3a"
             ],
             [
              0.8888888888888888,
              "#fdca26"
             ],
             [
              1,
              "#f0f921"
             ]
            ],
            "type": "histogram2d"
           }
          ],
          "histogram2dcontour": [
           {
            "colorbar": {
             "outlinewidth": 0,
             "ticks": ""
            },
            "colorscale": [
             [
              0,
              "#0d0887"
             ],
             [
              0.1111111111111111,
              "#46039f"
             ],
             [
              0.2222222222222222,
              "#7201a8"
             ],
             [
              0.3333333333333333,
              "#9c179e"
             ],
             [
              0.4444444444444444,
              "#bd3786"
             ],
             [
              0.5555555555555556,
              "#d8576b"
             ],
             [
              0.6666666666666666,
              "#ed7953"
             ],
             [
              0.7777777777777778,
              "#fb9f3a"
             ],
             [
              0.8888888888888888,
              "#fdca26"
             ],
             [
              1,
              "#f0f921"
             ]
            ],
            "type": "histogram2dcontour"
           }
          ],
          "mesh3d": [
           {
            "colorbar": {
             "outlinewidth": 0,
             "ticks": ""
            },
            "type": "mesh3d"
           }
          ],
          "parcoords": [
           {
            "line": {
             "colorbar": {
              "outlinewidth": 0,
              "ticks": ""
             }
            },
            "type": "parcoords"
           }
          ],
          "pie": [
           {
            "automargin": true,
            "type": "pie"
           }
          ],
          "scatter": [
           {
            "fillpattern": {
             "fillmode": "overlay",
             "size": 10,
             "solidity": 0.2
            },
            "type": "scatter"
           }
          ],
          "scatter3d": [
           {
            "line": {
             "colorbar": {
              "outlinewidth": 0,
              "ticks": ""
             }
            },
            "marker": {
             "colorbar": {
              "outlinewidth": 0,
              "ticks": ""
             }
            },
            "type": "scatter3d"
           }
          ],
          "scattercarpet": [
           {
            "marker": {
             "colorbar": {
              "outlinewidth": 0,
              "ticks": ""
             }
            },
            "type": "scattercarpet"
           }
          ],
          "scattergeo": [
           {
            "marker": {
             "colorbar": {
              "outlinewidth": 0,
              "ticks": ""
             }
            },
            "type": "scattergeo"
           }
          ],
          "scattergl": [
           {
            "marker": {
             "colorbar": {
              "outlinewidth": 0,
              "ticks": ""
             }
            },
            "type": "scattergl"
           }
          ],
          "scattermapbox": [
           {
            "marker": {
             "colorbar": {
              "outlinewidth": 0,
              "ticks": ""
             }
            },
            "type": "scattermapbox"
           }
          ],
          "scatterpolar": [
           {
            "marker": {
             "colorbar": {
              "outlinewidth": 0,
              "ticks": ""
             }
            },
            "type": "scatterpolar"
           }
          ],
          "scatterpolargl": [
           {
            "marker": {
             "colorbar": {
              "outlinewidth": 0,
              "ticks": ""
             }
            },
            "type": "scatterpolargl"
           }
          ],
          "scatterternary": [
           {
            "marker": {
             "colorbar": {
              "outlinewidth": 0,
              "ticks": ""
             }
            },
            "type": "scatterternary"
           }
          ],
          "surface": [
           {
            "colorbar": {
             "outlinewidth": 0,
             "ticks": ""
            },
            "colorscale": [
             [
              0,
              "#0d0887"
             ],
             [
              0.1111111111111111,
              "#46039f"
             ],
             [
              0.2222222222222222,
              "#7201a8"
             ],
             [
              0.3333333333333333,
              "#9c179e"
             ],
             [
              0.4444444444444444,
              "#bd3786"
             ],
             [
              0.5555555555555556,
              "#d8576b"
             ],
             [
              0.6666666666666666,
              "#ed7953"
             ],
             [
              0.7777777777777778,
              "#fb9f3a"
             ],
             [
              0.8888888888888888,
              "#fdca26"
             ],
             [
              1,
              "#f0f921"
             ]
            ],
            "type": "surface"
           }
          ],
          "table": [
           {
            "cells": {
             "fill": {
              "color": "#EBF0F8"
             },
             "line": {
              "color": "white"
             }
            },
            "header": {
             "fill": {
              "color": "#C8D4E3"
             },
             "line": {
              "color": "white"
             }
            },
            "type": "table"
           }
          ]
         },
         "layout": {
          "annotationdefaults": {
           "arrowcolor": "#2a3f5f",
           "arrowhead": 0,
           "arrowwidth": 1
          },
          "autotypenumbers": "strict",
          "coloraxis": {
           "colorbar": {
            "outlinewidth": 0,
            "ticks": ""
           }
          },
          "colorscale": {
           "diverging": [
            [
             0,
             "#8e0152"
            ],
            [
             0.1,
             "#c51b7d"
            ],
            [
             0.2,
             "#de77ae"
            ],
            [
             0.3,
             "#f1b6da"
            ],
            [
             0.4,
             "#fde0ef"
            ],
            [
             0.5,
             "#f7f7f7"
            ],
            [
             0.6,
             "#e6f5d0"
            ],
            [
             0.7,
             "#b8e186"
            ],
            [
             0.8,
             "#7fbc41"
            ],
            [
             0.9,
             "#4d9221"
            ],
            [
             1,
             "#276419"
            ]
           ],
           "sequential": [
            [
             0,
             "#0d0887"
            ],
            [
             0.1111111111111111,
             "#46039f"
            ],
            [
             0.2222222222222222,
             "#7201a8"
            ],
            [
             0.3333333333333333,
             "#9c179e"
            ],
            [
             0.4444444444444444,
             "#bd3786"
            ],
            [
             0.5555555555555556,
             "#d8576b"
            ],
            [
             0.6666666666666666,
             "#ed7953"
            ],
            [
             0.7777777777777778,
             "#fb9f3a"
            ],
            [
             0.8888888888888888,
             "#fdca26"
            ],
            [
             1,
             "#f0f921"
            ]
           ],
           "sequentialminus": [
            [
             0,
             "#0d0887"
            ],
            [
             0.1111111111111111,
             "#46039f"
            ],
            [
             0.2222222222222222,
             "#7201a8"
            ],
            [
             0.3333333333333333,
             "#9c179e"
            ],
            [
             0.4444444444444444,
             "#bd3786"
            ],
            [
             0.5555555555555556,
             "#d8576b"
            ],
            [
             0.6666666666666666,
             "#ed7953"
            ],
            [
             0.7777777777777778,
             "#fb9f3a"
            ],
            [
             0.8888888888888888,
             "#fdca26"
            ],
            [
             1,
             "#f0f921"
            ]
           ]
          },
          "colorway": [
           "#636efa",
           "#EF553B",
           "#00cc96",
           "#ab63fa",
           "#FFA15A",
           "#19d3f3",
           "#FF6692",
           "#B6E880",
           "#FF97FF",
           "#FECB52"
          ],
          "font": {
           "color": "#2a3f5f"
          },
          "geo": {
           "bgcolor": "white",
           "lakecolor": "white",
           "landcolor": "#E5ECF6",
           "showlakes": true,
           "showland": true,
           "subunitcolor": "white"
          },
          "hoverlabel": {
           "align": "left"
          },
          "hovermode": "closest",
          "mapbox": {
           "style": "light"
          },
          "paper_bgcolor": "white",
          "plot_bgcolor": "#E5ECF6",
          "polar": {
           "angularaxis": {
            "gridcolor": "white",
            "linecolor": "white",
            "ticks": ""
           },
           "bgcolor": "#E5ECF6",
           "radialaxis": {
            "gridcolor": "white",
            "linecolor": "white",
            "ticks": ""
           }
          },
          "scene": {
           "xaxis": {
            "backgroundcolor": "#E5ECF6",
            "gridcolor": "white",
            "gridwidth": 2,
            "linecolor": "white",
            "showbackground": true,
            "ticks": "",
            "zerolinecolor": "white"
           },
           "yaxis": {
            "backgroundcolor": "#E5ECF6",
            "gridcolor": "white",
            "gridwidth": 2,
            "linecolor": "white",
            "showbackground": true,
            "ticks": "",
            "zerolinecolor": "white"
           },
           "zaxis": {
            "backgroundcolor": "#E5ECF6",
            "gridcolor": "white",
            "gridwidth": 2,
            "linecolor": "white",
            "showbackground": true,
            "ticks": "",
            "zerolinecolor": "white"
           }
          },
          "shapedefaults": {
           "line": {
            "color": "#2a3f5f"
           }
          },
          "ternary": {
           "aaxis": {
            "gridcolor": "white",
            "linecolor": "white",
            "ticks": ""
           },
           "baxis": {
            "gridcolor": "white",
            "linecolor": "white",
            "ticks": ""
           },
           "bgcolor": "#E5ECF6",
           "caxis": {
            "gridcolor": "white",
            "linecolor": "white",
            "ticks": ""
           }
          },
          "title": {
           "x": 0.05
          },
          "xaxis": {
           "automargin": true,
           "gridcolor": "white",
           "linecolor": "white",
           "ticks": "",
           "title": {
            "standoff": 15
           },
           "zerolinecolor": "white",
           "zerolinewidth": 2
          },
          "yaxis": {
           "automargin": true,
           "gridcolor": "white",
           "linecolor": "white",
           "ticks": "",
           "title": {
            "standoff": 15
           },
           "zerolinecolor": "white",
           "zerolinewidth": 2
          }
         }
        },
        "xaxis": {
         "anchor": "y",
         "autorange": true,
         "domain": [
          0,
          1
         ],
         "range": [
          -0.5,
          9.5
         ],
         "title": {
          "text": "x"
         },
         "type": "category"
        },
        "yaxis": {
         "anchor": "x",
         "autorange": true,
         "domain": [
          0,
          1
         ],
         "range": [
          0,
          612053.6842105263
         ],
         "title": {
          "text": "y"
         },
         "type": "linear"
        }
       }
      },
      "image/png": "[encoded data removed]",
      "text/html": [
       "<div>                            <div id=\"991264e6-9181-44e1-9060-e527ec04c609\" class=\"plotly-graph-div\" style=\"height:525px; width:100%;\"></div>            <script type=\"text/javascript\">                require([\"plotly\"], function(Plotly) {                    window.PLOTLYENV=window.PLOTLYENV || {};                                    if (document.getElementById(\"991264e6-9181-44e1-9060-e527ec04c609\")) {                    Plotly.newPlot(                        \"991264e6-9181-44e1-9060-e527ec04c609\",                        [{\"alignmentgroup\":\"True\",\"hovertemplate\":\"x=%{x}<br>y=%{y}<extra></extra>\",\"legendgroup\":\"\",\"marker\":{\"color\":\"#636efa\",\"pattern\":{\"shape\":\"\"}},\"name\":\"\",\"offsetgroup\":\"\",\"orientation\":\"v\",\"showlegend\":false,\"textposition\":\"auto\",\"x\":[\"1\\ucc9c\\ub9cc \\uc774\\ud558\",\"1.5\\ucc9c\\ub9cc \\uc774\\ud558\",\"2\\ucc9c\\ub9cc \\uc774\\ud558\",\"3\\ucc9c\\ub9cc \\uc774\\ud558\",\"4\\ucc9c\\ub9cc \\uc774\\ud558\",\"4.5\\ucc9c\\ub9cc \\uc774\\ud558\",\"5\\ucc9c\\ub9cc \\uc774\\ud558\",\"6\\ucc9c\\ub9cc \\uc774\\ud558\",\"8\\ucc9c\\ub9cc \\uc774\\ud558\",\"1\\uc5b5 \\uc774\\ud558\"],\"xaxis\":\"x\",\"y\":[null,101449.0,110266.0,147903.0,268419.0,335896.0,373270.0,419097.0,490929.0,581451.0],\"yaxis\":\"y\",\"type\":\"bar\"}],                        {\"template\":{\"data\":{\"histogram2dcontour\":[{\"type\":\"histogram2dcontour\",\"colorbar\":{\"outlinewidth\":0,\"ticks\":\"\"},\"colorscale\":[[0.0,\"#0d0887\"],[0.1111111111111111,\"#46039f\"],[0.2222222222222222,\"#7201a8\"],[0.3333333333333333,\"#9c179e\"],[0.4444444444444444,\"#bd3786\"],[0.5555555555555556,\"#d8576b\"],[0.6666666666666666,\"#ed7953\"],[0.7777777777777778,\"#fb9f3a\"],[0.8888888888888888,\"#fdca26\"],[1.0,\"#f0f921\"]]}],\"choropleth\":[{\"type\":\"choropleth\",\"colorbar\":{\"outlinewidth\":0,\"ticks\":\"\"}}],\"histogram2d\":[{\"type\":\"histogram2d\",\"colorbar\":{\"outlinewidth\":0,\"ticks\":\"\"},\"colorscale\":[[0.0,\"#0d0887\"],[0.1111111111111111,\"#46039f\"],[0.2222222222222222,\"#7201a8\"],[0.3333333333333333,\"#9c179e\"],[0.4444444444444444,\"#bd3786\"],[0.5555555555555556,\"#d8576b\"],[0.6666666666666666,\"#ed7953\"],[0.7777777777777778,\"#fb9f3a\"],[0.8888888888888888,\"#fdca26\"],[1.0,\"#f0f921\"]]}],\"heatmap\":[{\"type\":\"heatmap\",\"colorbar\":{\"outlinewidth\":0,\"ticks\":\"\"},\"colorscale\":[[0.0,\"#0d0887\"],[0.1111111111111111,\"#46039f\"],[0.2222222222222222,\"#7201a8\"],[0.3333333333333333,\"#9c179e\"],[0.4444444444444444,\"#bd3786\"],[0.5555555555555556,\"#d8576b\"],[0.6666666666666666,\"#ed7953\"],[0.7777777777777778,\"#fb9f3a\"],[0.8888888888888888,\"#fdca26\"],[1.0,\"#f0f921\"]]}],\"heatmapgl\":[{\"type\":\"heatmapgl\",\"colorbar\":{\"outlinewidth\":0,\"ticks\":\"\"},\"colorscale\":[[0.0,\"#0d0887\"],[0.1111111111111111,\"#46039f\"],[0.2222222222222222,\"#7201a8\"],[0.3333333333333333,\"#9c179e\"],[0.4444444444444444,\"#bd3786\"],[0.5555555555555556,\"#d8576b\"],[0.6666666666666666,\"#ed7953\"],[0.7777777777777778,\"#fb9f3a\"],[0.8888888888888888,\"#fdca26\"],[1.0,\"#f0f921\"]]}],\"contourcarpet\":[{\"type\":\"contourcarpet\",\"colorbar\":{\"outlinewidth\":0,\"ticks\":\"\"}}],\"contour\":[{\"type\":\"contour\",\"colorbar\":{\"outlinewidth\":0,\"ticks\":\"\"},\"colorscale\":[[0.0,\"#0d0887\"],[0.1111111111111111,\"#46039f\"],[0.2222222222222222,\"#7201a8\"],[0.3333333333333333,\"#9c179e\"],[0.4444444444444444,\"#bd3786\"],[0.5555555555555556,\"#d8576b\"],[0.6666666666666666,\"#ed7953\"],[0.7777777777777778,\"#fb9f3a\"],[0.8888888888888888,\"#fdca26\"],[1.0,\"#f0f921\"]]}],\"surface\":[{\"type\":\"surface\",\"colorbar\":{\"outlinewidth\":0,\"ticks\":\"\"},\"colorscale\":[[0.0,\"#0d0887\"],[0.1111111111111111,\"#46039f\"],[0.2222222222222222,\"#7201a8\"],[0.3333333333333333,\"#9c179e\"],[0.4444444444444444,\"#bd3786\"],[0.5555555555555556,\"#d8576b\"],[0.6666666666666666,\"#ed7953\"],[0.7777777777777778,\"#fb9f3a\"],[0.8888888888888888,\"#fdca26\"],[1.0,\"#f0f921\"]]}],\"mesh3d\":[{\"type\":\"mesh3d\",\"colorbar\":{\"outlinewidth\":0,\"ticks\":\"\"}}],\"scatter\":[{\"fillpattern\":{\"fillmode\":\"overlay\",\"size\":10,\"solidity\":0.2},\"type\":\"scatter\"}],\"parcoords\":[{\"type\":\"parcoords\",\"line\":{\"colorbar\":{\"outlinewidth\":0,\"ticks\":\"\"}}}],\"scatterpolargl\":[{\"type\":\"scatterpolargl\",\"marker\":{\"colorbar\":{\"outlinewidth\":0,\"ticks\":\"\"}}}],\"bar\":[{\"error_x\":{\"color\":\"#2a3f5f\"},\"error_y\":{\"color\":\"#2a3f5f\"},\"marker\":{\"line\":{\"color\":\"#E5ECF6\",\"width\":0.5},\"pattern\":{\"fillmode\":\"overlay\",\"size\":10,\"solidity\":0.2}},\"type\":\"bar\"}],\"scattergeo\":[{\"type\":\"scattergeo\",\"marker\":{\"colorbar\":{\"outlinewidth\":0,\"ticks\":\"\"}}}],\"scatterpolar\":[{\"type\":\"scatterpolar\",\"marker\":{\"colorbar\":{\"outlinewidth\":0,\"ticks\":\"\"}}}],\"histogram\":[{\"marker\":{\"pattern\":{\"fillmode\":\"overlay\",\"size\":10,\"solidity\":0.2}},\"type\":\"histogram\"}],\"scattergl\":[{\"type\":\"scattergl\",\"marker\":{\"colorbar\":{\"outlinewidth\":0,\"ticks\":\"\"}}}],\"scatter3d\":[{\"type\":\"scatter3d\",\"line\":{\"colorbar\":{\"outlinewidth\":0,\"ticks\":\"\"}},\"marker\":{\"colorbar\":{\"outlinewidth\":0,\"ticks\":\"\"}}}],\"scattermapbox\":[{\"type\":\"scattermapbox\",\"marker\":{\"colorbar\":{\"outlinewidth\":0,\"ticks\":\"\"}}}],\"scatterternary\":[{\"type\":\"scatterternary\",\"marker\":{\"colorbar\":{\"outlinewidth\":0,\"ticks\":\"\"}}}],\"scattercarpet\":[{\"type\":\"scattercarpet\",\"marker\":{\"colorbar\":{\"outlinewidth\":0,\"ticks\":\"\"}}}],\"carpet\":[{\"aaxis\":{\"endlinecolor\":\"#2a3f5f\",\"gridcolor\":\"white\",\"linecolor\":\"white\",\"minorgridcolor\":\"white\",\"startlinecolor\":\"#2a3f5f\"},\"baxis\":{\"endlinecolor\":\"#2a3f5f\",\"gridcolor\":\"white\",\"linecolor\":\"white\",\"minorgridcolor\":\"white\",\"startlinecolor\":\"#2a3f5f\"},\"type\":\"carpet\"}],\"table\":[{\"cells\":{\"fill\":{\"color\":\"#EBF0F8\"},\"line\":{\"color\":\"white\"}},\"header\":{\"fill\":{\"color\":\"#C8D4E3\"},\"line\":{\"color\":\"white\"}},\"type\":\"table\"}],\"barpolar\":[{\"marker\":{\"line\":{\"color\":\"#E5ECF6\",\"width\":0.5},\"pattern\":{\"fillmode\":\"overlay\",\"size\":10,\"solidity\":0.2}},\"type\":\"barpolar\"}],\"pie\":[{\"automargin\":true,\"type\":\"pie\"}]},\"layout\":{\"autotypenumbers\":\"strict\",\"colorway\":[\"#636efa\",\"#EF553B\",\"#00cc96\",\"#ab63fa\",\"#FFA15A\",\"#19d3f3\",\"#FF6692\",\"#B6E880\",\"#FF97FF\",\"#FECB52\"],\"font\":{\"color\":\"#2a3f5f\"},\"hovermode\":\"closest\",\"hoverlabel\":{\"align\":\"left\"},\"paper_bgcolor\":\"white\",\"plot_bgcolor\":\"#E5ECF6\",\"polar\":{\"bgcolor\":\"#E5ECF6\",\"angularaxis\":{\"gridcolor\":\"white\",\"linecolor\":\"white\",\"ticks\":\"\"},\"radialaxis\":{\"gridcolor\":\"white\",\"linecolor\":\"white\",\"ticks\":\"\"}},\"ternary\":{\"bgcolor\":\"#E5ECF6\",\"aaxis\":{\"gridcolor\":\"white\",\"linecolor\":\"white\",\"ticks\":\"\"},\"baxis\":{\"gridcolor\":\"white\",\"linecolor\":\"white\",\"ticks\":\"\"},\"caxis\":{\"gridcolor\":\"white\",\"linecolor\":\"white\",\"ticks\":\"\"}},\"coloraxis\":{\"colorbar\":{\"outlinewidth\":0,\"ticks\":\"\"}},\"colorscale\":{\"sequential\":[[0.0,\"#0d0887\"],[0.1111111111111111,\"#46039f\"],[0.2222222222222222,\"#7201a8\"],[0.3333333333333333,\"#9c179e\"],[0.4444444444444444,\"#bd3786\"],[0.5555555555555556,\"#d8576b\"],[0.6666666666666666,\"#ed7953\"],[0.7777777777777778,\"#fb9f3a\"],[0.8888888888888888,\"#fdca26\"],[1.0,\"#f0f921\"]],\"sequentialminus\":[[0.0,\"#0d0887\"],[0.1111111111111111,\"#46039f\"],[0.2222222222222222,\"#7201a8\"],[0.3333333333333333,\"#9c179e\"],[0.4444444444444444,\"#bd3786\"],[0.5555555555555556,\"#d8576b\"],[0.6666666666666666,\"#ed7953\"],[0.7777777777777778,\"#fb9f3a\"],[0.8888888888888888,\"#fdca26\"],[1.0,\"#f0f921\"]],\"diverging\":[[0,\"#8e0152\"],[0.1,\"#c51b7d\"],[0.2,\"#de77ae\"],[0.3,\"#f1b6da\"],[0.4,\"#fde0ef\"],[0.5,\"#f7f7f7\"],[0.6,\"#e6f5d0\"],[0.7,\"#b8e186\"],[0.8,\"#7fbc41\"],[0.9,\"#4d9221\"],[1,\"#276419\"]]},\"xaxis\":{\"gridcolor\":\"white\",\"linecolor\":\"white\",\"ticks\":\"\",\"title\":{\"standoff\":15},\"zerolinecolor\":\"white\",\"automargin\":true,\"zerolinewidth\":2},\"yaxis\":{\"gridcolor\":\"white\",\"linecolor\":\"white\",\"ticks\":\"\",\"title\":{\"standoff\":15},\"zerolinecolor\":\"white\",\"automargin\":true,\"zerolinewidth\":2},\"scene\":{\"xaxis\":{\"backgroundcolor\":\"#E5ECF6\",\"gridcolor\":\"white\",\"linecolor\":\"white\",\"showbackground\":true,\"ticks\":\"\",\"zerolinecolor\":\"white\",\"gridwidth\":2},\"yaxis\":{\"backgroundcolor\":\"#E5ECF6\",\"gridcolor\":\"white\",\"linecolor\":\"white\",\"showbackground\":true,\"ticks\":\"\",\"zerolinecolor\":\"white\",\"gridwidth\":2},\"zaxis\":{\"backgroundcolor\":\"#E5ECF6\",\"gridcolor\":\"white\",\"linecolor\":\"white\",\"showbackground\":true,\"ticks\":\"\",\"zerolinecolor\":\"white\",\"gridwidth\":2}},\"shapedefaults\":{\"line\":{\"color\":\"#2a3f5f\"}},\"annotationdefaults\":{\"arrowcolor\":\"#2a3f5f\",\"arrowhead\":0,\"arrowwidth\":1},\"geo\":{\"bgcolor\":\"white\",\"landcolor\":\"#E5ECF6\",\"subunitcolor\":\"white\",\"showland\":true,\"showlakes\":true,\"lakecolor\":\"white\"},\"title\":{\"x\":0.05},\"mapbox\":{\"style\":\"light\"}}},\"xaxis\":{\"anchor\":\"y\",\"domain\":[0.0,1.0],\"title\":{\"text\":\"x\"}},\"yaxis\":{\"anchor\":\"x\",\"domain\":[0.0,1.0],\"title\":{\"text\":\"y\"}},\"legend\":{\"tracegroupgap\":0},\"margin\":{\"t\":60},\"barmode\":\"relative\"},                        {\"responsive\": true}                    ).then(function(){\n",
       "                            \n",
       "var gd = document.getElementById('991264e6-9181-44e1-9060-e527ec04c609');\n",
       "var x = new MutationObserver(function (mutations, observer) {{\n",
       "        var display = window.getComputedStyle(gd).display;\n",
       "        if (!display || display === 'none') {{\n",
       "            console.log([gd, 'removed!']);\n",
       "            Plotly.purge(gd);\n",
       "            observer.disconnect();\n",
       "        }}\n",
       "}});\n",
       "\n",
       "// Listen for the removal of the full notebook cells\n",
       "var notebookContainer = gd.closest('#notebook-container');\n",
       "if (notebookContainer) {{\n",
       "    x.observe(notebookContainer, {childList: true});\n",
       "}}\n",
       "\n",
       "// Listen for the clearing of the current output cell\n",
       "var outputEl = gd.closest('.output');\n",
       "if (outputEl) {{\n",
       "    x.observe(outputEl, {childList: true});\n",
       "}}\n",
       "\n",
       "                        })                };                });            </script>        </div>"
      ]
     },
     "metadata": {},
     "output_type": "display_data"
    }
   ],
   "source": [
    "df = money.iloc[0:10, :]\n",
    "fig = px.bar(x = df['index'], y = df['1인당_기부금'])\n",
    "\n",
    "fig.show()"
   ]
  },
  {
   "cell_type": "code",
   "execution_count": null,
   "id": "2072ec61-ef7f-4997-9286-7064deb51920",
   "metadata": {},
   "outputs": [],
   "source": []
  }
 ],
 "metadata": {
  "kernelspec": {
   "display_name": "Python 3 (ipykernel)",
   "language": "python",
   "name": "python3"
  },
  "language_info": {
   "codemirror_mode": {
    "name": "ipython",
    "version": 3
   },
   "file_extension": ".py",
   "mimetype": "text/x-python",
   "name": "python",
   "nbconvert_exporter": "python",
   "pygments_lexer": "ipython3",
   "version": "3.9.13"
  }
 },
 "nbformat": 4,
 "nbformat_minor": 5
}
